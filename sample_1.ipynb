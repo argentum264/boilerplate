{
 "cells": [
  {
   "cell_type": "code",
   "execution_count": 1,
   "id": "f445708b-8f8c-4932-868d-8c21e7ace199",
   "metadata": {
    "tags": []
   },
   "outputs": [],
   "source": [
    "import random"
   ]
  },
  {
   "cell_type": "code",
   "execution_count": 10,
   "id": "04a919c4-c25c-46b2-8f4a-89fd74dc275f",
   "metadata": {
    "tags": []
   },
   "outputs": [
    {
     "data": {
      "text/plain": [
       "3"
      ]
     },
     "execution_count": 10,
     "metadata": {},
     "output_type": "execute_result"
    }
   ],
   "source": [
    "random.randint(1,3)"
   ]
  },
  {
   "cell_type": "code",
   "execution_count": 12,
   "id": "0e4411a1-ac91-4809-a203-e1c157962813",
   "metadata": {
    "tags": []
   },
   "outputs": [
    {
     "name": "stdout",
     "output_type": "stream",
     "text": [
      "5\n",
      "6\n",
      "7\n",
      "8\n",
      "9\n",
      "[5, 6, 7, 8, 9]\n"
     ]
    }
   ],
   "source": [
    "a = []\n",
    "for i in range(5,10):\n",
    "    a.append(i)\n",
    "    print(i)\n",
    "print(a)"
   ]
  },
  {
   "cell_type": "code",
   "execution_count": 19,
   "id": "94e8a8ba-2ab0-4394-b60c-832b8a595493",
   "metadata": {
    "tags": []
   },
   "outputs": [
    {
     "name": "stdout",
     "output_type": "stream",
     "text": [
      "[5, 6, 7, 8, 9]\n"
     ]
    }
   ],
   "source": [
    "print(a[::1])"
   ]
  },
  {
   "cell_type": "code",
   "execution_count": 29,
   "id": "d5434fe4-ff8e-4cf2-9230-a1216edb8465",
   "metadata": {
    "tags": []
   },
   "outputs": [
    {
     "name": "stdout",
     "output_type": "stream",
     "text": [
      "RAJAT\n",
      "5\n",
      "1\n",
      "3\n"
     ]
    }
   ],
   "source": [
    "x = \"RaJaT\"\n",
    "print(x.upper())\n",
    "print(len(x))\n",
    "print(a.count(6))\n",
    "print(a.index(8))"
   ]
  },
  {
   "cell_type": "code",
   "execution_count": 32,
   "id": "e9ade3c3-f895-4dc0-b9f3-58dccb61bd8e",
   "metadata": {
    "tags": []
   },
   "outputs": [
    {
     "data": {
      "text/plain": [
       "[5, 6, 25, 7, 8, 9, 2]"
      ]
     },
     "execution_count": 32,
     "metadata": {},
     "output_type": "execute_result"
    }
   ],
   "source": [
    "a.insert(2,25)\n",
    "a"
   ]
  },
  {
   "cell_type": "code",
   "execution_count": 33,
   "id": "f944f999-c40c-4230-9b0e-f845575e0f61",
   "metadata": {
    "tags": []
   },
   "outputs": [
    {
     "data": {
      "text/plain": [
       "[5, 6, 25, 7, 8, 9]"
      ]
     },
     "execution_count": 33,
     "metadata": {},
     "output_type": "execute_result"
    }
   ],
   "source": [
    "a.pop()\n",
    "a"
   ]
  },
  {
   "cell_type": "code",
   "execution_count": 41,
   "id": "7b1f6795-c3bd-4dba-ad5b-44c7b9ddfa83",
   "metadata": {
    "tags": []
   },
   "outputs": [
    {
     "data": {
      "text/plain": [
       "[9, 8, 7, 25, 6, 5]"
      ]
     },
     "execution_count": 41,
     "metadata": {},
     "output_type": "execute_result"
    }
   ],
   "source": [
    "a.reverse()\n",
    "a"
   ]
  },
  {
   "cell_type": "code",
   "execution_count": 42,
   "id": "b9d30597-7504-41d3-91a7-4144fb7f45bc",
   "metadata": {
    "tags": []
   },
   "outputs": [
    {
     "data": {
      "text/plain": [
       "[5, 6, 7, 8, 9, 25]"
      ]
     },
     "execution_count": 42,
     "metadata": {},
     "output_type": "execute_result"
    }
   ],
   "source": [
    "a.sort()\n",
    "a"
   ]
  },
  {
   "cell_type": "code",
   "execution_count": 43,
   "id": "0219af3e-b4d5-4ae5-84e9-5785032fa632",
   "metadata": {
    "tags": []
   },
   "outputs": [
    {
     "data": {
      "text/plain": [
       "[25]"
      ]
     },
     "execution_count": 43,
     "metadata": {},
     "output_type": "execute_result"
    }
   ],
   "source": [
    "z = [25]\n",
    "z"
   ]
  },
  {
   "cell_type": "code",
   "execution_count": 45,
   "id": "cae74e36-3e7c-4865-862f-dbb88df46eaf",
   "metadata": {
    "tags": []
   },
   "outputs": [
    {
     "name": "stdout",
     "output_type": "stream",
     "text": [
      "[25, 25, 25, 25, 25]\n"
     ]
    }
   ],
   "source": [
    "print(z*5)"
   ]
  },
  {
   "cell_type": "code",
   "execution_count": 46,
   "id": "da063469-c714-4cee-a511-fcf5e7b49c74",
   "metadata": {
    "tags": []
   },
   "outputs": [
    {
     "data": {
      "text/plain": [
       "[5, 6, 7, 8, 9, 25, 5, 6, 7, 8, 9, 25]"
      ]
     },
     "execution_count": 46,
     "metadata": {},
     "output_type": "execute_result"
    }
   ],
   "source": [
    "b = a+a\n",
    "b"
   ]
  },
  {
   "cell_type": "code",
   "execution_count": 124,
   "id": "b6fc4eef-784f-4819-8483-f3813b139bec",
   "metadata": {
    "tags": []
   },
   "outputs": [
    {
     "data": {
      "text/plain": [
       "[8]"
      ]
     },
     "execution_count": 124,
     "metadata": {},
     "output_type": "execute_result"
    }
   ],
   "source": [
    "ss = random.choices(b)\n",
    "ss"
   ]
  },
  {
   "cell_type": "code",
   "execution_count": 60,
   "id": "d3d86237-fb87-4179-9638-41c940b08e34",
   "metadata": {
    "tags": []
   },
   "outputs": [
    {
     "data": {
      "text/plain": [
       "{1, 2, 3}"
      ]
     },
     "execution_count": 60,
     "metadata": {},
     "output_type": "execute_result"
    }
   ],
   "source": [
    "sam = {1,2,3}\n",
    "sam"
   ]
  },
  {
   "cell_type": "code",
   "execution_count": 61,
   "id": "7858cafc-2e8f-4993-909f-3c0f96fa7135",
   "metadata": {
    "tags": []
   },
   "outputs": [
    {
     "data": {
      "text/plain": [
       "{1, 2, 3, 4}"
      ]
     },
     "execution_count": 61,
     "metadata": {},
     "output_type": "execute_result"
    }
   ],
   "source": [
    "sam.add(4)\n",
    "sam"
   ]
  },
  {
   "cell_type": "code",
   "execution_count": 62,
   "id": "397372dd-a7b0-4dc2-a480-b2208540c1ef",
   "metadata": {
    "tags": []
   },
   "outputs": [
    {
     "data": {
      "text/plain": [
       "{1, 2, 3, 4, 5, 6, 7}"
      ]
     },
     "execution_count": 62,
     "metadata": {},
     "output_type": "execute_result"
    }
   ],
   "source": [
    "sam.update([5,6,7])\n",
    "sam"
   ]
  },
  {
   "cell_type": "code",
   "execution_count": 64,
   "id": "cd432a2e-c371-4911-9acb-a1bfd03d8f42",
   "metadata": {
    "tags": []
   },
   "outputs": [
    {
     "ename": "KeyError",
     "evalue": "4",
     "output_type": "error",
     "traceback": [
      "\u001b[1;31m---------------------------------------------------------------------------\u001b[0m",
      "\u001b[1;31mKeyError\u001b[0m                                  Traceback (most recent call last)",
      "Cell \u001b[1;32mIn[64], line 1\u001b[0m\n\u001b[1;32m----> 1\u001b[0m sam\u001b[38;5;241m.\u001b[39mremove(\u001b[38;5;241m4\u001b[39m)\n\u001b[0;32m      2\u001b[0m sam\n",
      "\u001b[1;31mKeyError\u001b[0m: 4"
     ]
    }
   ],
   "source": [
    "sam.remove(4)\n",
    "sam"
   ]
  },
  {
   "cell_type": "code",
   "execution_count": 65,
   "id": "193e378b-de46-44ff-adf5-2f91010b8cd5",
   "metadata": {
    "tags": []
   },
   "outputs": [
    {
     "data": {
      "text/plain": [
       "{1, 2, 3, 5, 6, 7}"
      ]
     },
     "execution_count": 65,
     "metadata": {},
     "output_type": "execute_result"
    }
   ],
   "source": [
    "sam.discard(4)\n",
    "sam"
   ]
  },
  {
   "cell_type": "code",
   "execution_count": 68,
   "id": "e6301e1c-cdcf-4d3f-a752-bec699cbb59a",
   "metadata": {
    "tags": []
   },
   "outputs": [
    {
     "data": {
      "text/plain": [
       "{1, 2, 3, 5, 6, 7, 8, 9}"
      ]
     },
     "execution_count": 68,
     "metadata": {},
     "output_type": "execute_result"
    }
   ],
   "source": [
    "zz = sam.union({8,9})\n",
    "zz"
   ]
  },
  {
   "cell_type": "code",
   "execution_count": 70,
   "id": "18a7dc07-f5ac-4a82-af03-68c624c1ea9e",
   "metadata": {
    "tags": []
   },
   "outputs": [
    {
     "data": {
      "text/plain": [
       "{1, 2, 3, 5, 6, 7, 10, 11}"
      ]
     },
     "execution_count": 70,
     "metadata": {},
     "output_type": "execute_result"
    }
   ],
   "source": [
    "zz = sam | {10,11}\n",
    "zz"
   ]
  },
  {
   "cell_type": "code",
   "execution_count": 73,
   "id": "e26a89a0-cb87-486f-b9e5-9ab37a76426e",
   "metadata": {
    "tags": []
   },
   "outputs": [
    {
     "data": {
      "text/plain": [
       "{1, 2, 3, 5, 6, 7}"
      ]
     },
     "execution_count": 73,
     "metadata": {},
     "output_type": "execute_result"
    }
   ],
   "source": [
    "new = sam.intersection(zz)\n",
    "new"
   ]
  },
  {
   "cell_type": "code",
   "execution_count": 74,
   "id": "07d11b65-ffc6-456c-bd6f-346bb3adf08d",
   "metadata": {
    "tags": []
   },
   "outputs": [
    {
     "data": {
      "text/plain": [
       "{1, 2, 3, 5, 6, 7}"
      ]
     },
     "execution_count": 74,
     "metadata": {},
     "output_type": "execute_result"
    }
   ],
   "source": [
    "new = sam & zz\n",
    "new"
   ]
  },
  {
   "cell_type": "code",
   "execution_count": 76,
   "id": "19b5dc19-e148-4b2a-a672-179769b1b7a3",
   "metadata": {
    "tags": []
   },
   "outputs": [
    {
     "data": {
      "text/plain": [
       "{10, 11}"
      ]
     },
     "execution_count": 76,
     "metadata": {},
     "output_type": "execute_result"
    }
   ],
   "source": [
    "new = zz - sam\n",
    "new"
   ]
  },
  {
   "cell_type": "code",
   "execution_count": 78,
   "id": "169aa036-51d3-44cf-9414-815905f93e9f",
   "metadata": {
    "tags": []
   },
   "outputs": [
    {
     "name": "stdout",
     "output_type": "stream",
     "text": [
      "True\n",
      "False\n"
     ]
    }
   ],
   "source": [
    "print(sam<=zz)\n",
    "print(zz<=sam)"
   ]
  },
  {
   "cell_type": "code",
   "execution_count": 79,
   "id": "0f917e05-54a9-407c-a109-329bf46f399d",
   "metadata": {
    "tags": []
   },
   "outputs": [
    {
     "data": {
      "text/plain": [
       "{'a': 'x', 'b': 'y', 'c': 'z'}"
      ]
     },
     "execution_count": 79,
     "metadata": {},
     "output_type": "execute_result"
    }
   ],
   "source": [
    "dc = {'a':'x','b':'y','c':'z'}\n",
    "dc"
   ]
  },
  {
   "cell_type": "code",
   "execution_count": 85,
   "id": "d45d434e-7120-4f9e-8999-d24ecdd9c083",
   "metadata": {
    "tags": []
   },
   "outputs": [
    {
     "data": {
      "text/plain": [
       "'z'"
      ]
     },
     "execution_count": 85,
     "metadata": {},
     "output_type": "execute_result"
    }
   ],
   "source": [
    "dc.get('c','def')"
   ]
  },
  {
   "cell_type": "code",
   "execution_count": 89,
   "id": "bce33db4-40f4-495f-804b-9e65f56a3b67",
   "metadata": {
    "tags": []
   },
   "outputs": [
    {
     "data": {
      "text/plain": [
       "'z'"
      ]
     },
     "execution_count": 89,
     "metadata": {},
     "output_type": "execute_result"
    }
   ],
   "source": [
    "dc['c']"
   ]
  },
  {
   "cell_type": "code",
   "execution_count": 86,
   "id": "2afb34b0-29c0-4ebc-af69-12980f2e2f77",
   "metadata": {
    "tags": []
   },
   "outputs": [
    {
     "data": {
      "text/plain": [
       "dict_items([('a', 'x'), ('b', 'y'), ('c', 'z')])"
      ]
     },
     "execution_count": 86,
     "metadata": {},
     "output_type": "execute_result"
    }
   ],
   "source": [
    "dc.items()"
   ]
  },
  {
   "cell_type": "code",
   "execution_count": 87,
   "id": "3179f003-f385-4e1b-b39a-45740e903c6b",
   "metadata": {
    "tags": []
   },
   "outputs": [
    {
     "data": {
      "text/plain": [
       "dict_keys(['a', 'b', 'c'])"
      ]
     },
     "execution_count": 87,
     "metadata": {},
     "output_type": "execute_result"
    }
   ],
   "source": [
    "dc.keys()"
   ]
  },
  {
   "cell_type": "code",
   "execution_count": 88,
   "id": "7f8e38a7-4496-46ba-a2d8-01aca17ff7f7",
   "metadata": {
    "tags": []
   },
   "outputs": [
    {
     "data": {
      "text/plain": [
       "dict_values(['x', 'y', 'z'])"
      ]
     },
     "execution_count": 88,
     "metadata": {},
     "output_type": "execute_result"
    }
   ],
   "source": [
    "dc.values()"
   ]
  },
  {
   "cell_type": "code",
   "execution_count": 102,
   "id": "0c24274f-4ff0-45fb-b9f2-b462a6d85d5b",
   "metadata": {
    "tags": []
   },
   "outputs": [
    {
     "data": {
      "text/plain": [
       "{'a': 'x', 'b': 'y', 'c': 'z', 'i': 'j'}"
      ]
     },
     "execution_count": 102,
     "metadata": {},
     "output_type": "execute_result"
    }
   ],
   "source": [
    "dc['i'] = 'j'\n",
    "dc"
   ]
  },
  {
   "cell_type": "code",
   "execution_count": 105,
   "id": "67405910-b9be-4c39-a814-fcb559de7dbe",
   "metadata": {
    "tags": []
   },
   "outputs": [
    {
     "name": "stdout",
     "output_type": "stream",
     "text": [
      "('c', 'z')\n"
     ]
    },
    {
     "data": {
      "text/plain": [
       "{'a': 'x', 'b': 'y'}"
      ]
     },
     "execution_count": 105,
     "metadata": {},
     "output_type": "execute_result"
    }
   ],
   "source": [
    "print(dc.popitem())\n",
    "dc"
   ]
  },
  {
   "cell_type": "code",
   "execution_count": 106,
   "id": "f2381d3e-4996-445f-ba7e-43956a772dd8",
   "metadata": {
    "tags": []
   },
   "outputs": [
    {
     "name": "stdout",
     "output_type": "stream",
     "text": [
      "x\n"
     ]
    },
    {
     "data": {
      "text/plain": [
       "{'b': 'y'}"
      ]
     },
     "execution_count": 106,
     "metadata": {},
     "output_type": "execute_result"
    }
   ],
   "source": [
    "print(dc.pop('a'))\n",
    "dc"
   ]
  },
  {
   "cell_type": "code",
   "execution_count": 92,
   "id": "56b9b457-f833-4263-bb40-1823f4f61539",
   "metadata": {
    "tags": []
   },
   "outputs": [
    {
     "data": {
      "text/plain": [
       "fractions.Fraction"
      ]
     },
     "execution_count": 92,
     "metadata": {},
     "output_type": "execute_result"
    }
   ],
   "source": [
    "from fractions import Fraction\n",
    "xy = Fraction(1/2)\n",
    "type(xy)"
   ]
  },
  {
   "cell_type": "code",
   "execution_count": 93,
   "id": "551914d1-4aa7-4a29-acac-d30425bedee2",
   "metadata": {
    "tags": []
   },
   "outputs": [
    {
     "name": "stdin",
     "output_type": "stream",
     "text": [
      " Rajat\n"
     ]
    },
    {
     "name": "stdout",
     "output_type": "stream",
     "text": [
      "Rajat\n"
     ]
    }
   ],
   "source": [
    "xz = input()\n",
    "print(xz)"
   ]
  },
  {
   "cell_type": "code",
   "execution_count": 97,
   "id": "eebd22a8-4295-42e7-92a7-1346cac4c8ad",
   "metadata": {
    "tags": []
   },
   "outputs": [
    {
     "data": {
      "text/plain": [
       "1"
      ]
     },
     "execution_count": 97,
     "metadata": {},
     "output_type": "execute_result"
    }
   ],
   "source": [
    "10//6"
   ]
  },
  {
   "cell_type": "code",
   "execution_count": 99,
   "id": "9a9302a5-3a16-480f-a940-88cac1678c19",
   "metadata": {
    "tags": []
   },
   "outputs": [
    {
     "name": "stdout",
     "output_type": "stream",
     "text": [
      "a\n",
      "b\n"
     ]
    }
   ],
   "source": [
    "print(\"a\"); print(\"b\")"
   ]
  },
  {
   "cell_type": "code",
   "execution_count": 110,
   "id": "4e02cab8-28a1-4dd6-98c7-7bdb8a7c2de2",
   "metadata": {
    "tags": []
   },
   "outputs": [
    {
     "data": {
      "text/plain": [
       "5"
      ]
     },
     "execution_count": 110,
     "metadata": {},
     "output_type": "execute_result"
    }
   ],
   "source": [
    "random.randint(5,15)"
   ]
  },
  {
   "cell_type": "code",
   "execution_count": 112,
   "id": "6b286541-beed-4b0e-b539-7a1c24aec4d1",
   "metadata": {
    "tags": []
   },
   "outputs": [
    {
     "data": {
      "text/plain": [
       "0.6337833642381748"
      ]
     },
     "execution_count": 112,
     "metadata": {},
     "output_type": "execute_result"
    }
   ],
   "source": [
    "random.random()"
   ]
  },
  {
   "cell_type": "code",
   "execution_count": 122,
   "id": "2952a0d3-cf7c-4512-b1ba-c7b40f14679c",
   "metadata": {
    "tags": []
   },
   "outputs": [
    {
     "data": {
      "text/plain": [
       "3"
      ]
     },
     "execution_count": 122,
     "metadata": {},
     "output_type": "execute_result"
    }
   ],
   "source": [
    "random.randrange(100)"
   ]
  },
  {
   "cell_type": "code",
   "execution_count": 125,
   "id": "5580ff15-3211-4466-9b64-15cac9f12808",
   "metadata": {
    "tags": []
   },
   "outputs": [
    {
     "ename": "SyntaxError",
     "evalue": "invalid syntax (2417313113.py, line 1)",
     "output_type": "error",
     "traceback": [
      "\u001b[1;36m  Cell \u001b[1;32mIn[125], line 1\u001b[1;36m\u001b[0m\n\u001b[1;33m    some_val = \"Hello World!\"?\u001b[0m\n\u001b[1;37m                             ^\u001b[0m\n\u001b[1;31mSyntaxError\u001b[0m\u001b[1;31m:\u001b[0m invalid syntax\n"
     ]
    }
   ],
   "source": [
    "some_val = \"Hello World!\"?"
   ]
  },
  {
   "cell_type": "code",
   "execution_count": 4,
   "id": "0ca29a80-4c4f-4d2c-8f09-4e4bc96772c0",
   "metadata": {},
   "outputs": [
    {
     "name": "stdout",
     "output_type": "stream",
     "text": [
      "This is Roger's book\n",
      "This is Roger's book\n",
      "This is Roger's book\n",
      "This is Roger's book\n",
      "This is Roger's book\n",
      "\n"
     ]
    }
   ],
   "source": [
    "text = 'This is Roger\\'s book\\n'*5\n",
    "print(text)"
   ]
  },
  {
   "cell_type": "code",
   "execution_count": 11,
   "id": "f82753e7-7f8f-43bd-a399-54b0f556254f",
   "metadata": {
    "tags": []
   },
   "outputs": [
    {
     "name": "stdout",
     "output_type": "stream",
     "text": [
      "True\n",
      "False\n"
     ]
    }
   ],
   "source": [
    "xy = 'abc'\n",
    "yz = 'abc'\n",
    "\n",
    "l1 = ['a', 'b']\n",
    "l2 = ['a', 'b']\n",
    "print(xy is yz)\n",
    "print(l1 is l2)"
   ]
  },
  {
   "cell_type": "code",
   "execution_count": null,
   "id": "1c68fb66-905f-45b7-8cb3-ed315c1f8fc5",
   "metadata": {},
   "outputs": [],
   "source": []
  }
 ],
 "metadata": {
  "kernelspec": {
   "display_name": "Python 3 (ipykernel)",
   "language": "python",
   "name": "python3"
  },
  "language_info": {
   "codemirror_mode": {
    "name": "ipython",
    "version": 3
   },
   "file_extension": ".py",
   "mimetype": "text/x-python",
   "name": "python",
   "nbconvert_exporter": "python",
   "pygments_lexer": "ipython3",
   "version": "3.11.4"
  }
 },
 "nbformat": 4,
 "nbformat_minor": 5
}
